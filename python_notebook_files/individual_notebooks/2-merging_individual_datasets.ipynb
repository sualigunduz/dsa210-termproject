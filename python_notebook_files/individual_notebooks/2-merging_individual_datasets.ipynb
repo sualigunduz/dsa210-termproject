{
 "cells": [
  {
   "cell_type": "markdown",
   "metadata": {},
   "source": [
    "### 1. Importing Pandas, the only library needed here."
   ]
  },
  {
   "cell_type": "code",
   "execution_count": 1,
   "metadata": {},
   "outputs": [],
   "source": [
    "import pandas as pd"
   ]
  },
  {
   "cell_type": "markdown",
   "metadata": {},
   "source": [
    "### 2. Importing datasets"
   ]
  },
  {
   "cell_type": "code",
   "execution_count": 2,
   "metadata": {},
   "outputs": [],
   "source": [
    "# Employment Dataset will serve as main dataset where others will be merged onto\n",
    "df_employ = pd.read_csv(\"EMPLOYMENT_FILTERED.csv\", dtype={\"State-County FIPS Code\": str})\n",
    "\n",
    "# Importing the other datasets: Housing Prices, AQI, Risk Index\n",
    "df_housing = pd.read_csv(\"HOUSING_FILTERED.csv\", dtype={\"StCntyFIPS\": str})\n",
    "df_aqi = pd.read_csv(\"AIR_DATA_WITH_FIPS.csv\", dtype={\"StCnty FIPS Code\": str})\n",
    "df_risk = pd.read_csv(\"RISKINDEX_FILTERED.csv\", dtype={\"STCOFIPS\": str})"
   ]
  },
  {
   "cell_type": "markdown",
   "metadata": {},
   "source": [
    "### 3. Creating subsets of the dataframes with the needed columns\n",
    "\n",
    "For the employment dataset we include the county name column together with the FIPS code and the numerical data. This is because we will merge the other datasets on top of the filtered employment data."
   ]
  },
  {
   "cell_type": "code",
   "execution_count": 3,
   "metadata": {},
   "outputs": [],
   "source": [
    "# Creating subsets of datasets in the form of these columns: [FIPS Code, Column of Interest]\n",
    "\n",
    "ss_aqi = df_aqi[[\"StCnty FIPS Code\", \"Median AQI\"]]\n",
    "ss_housing = df_housing[[\"StCntyFIPS\", \"2019_average\"]]\n",
    "ss_employ = df_employ[[\"County Name/State Abbreviation\",\"State-County FIPS Code\", \"Unemployment Rate (%)\"]]\n",
    "ss_risk = df_risk[[\"STCOFIPS\", \"RISK_SCORE\"]]"
   ]
  },
  {
   "cell_type": "markdown",
   "metadata": {},
   "source": [
    "### 4. Renaming FIPS Columns\n",
    "We rename each column containing the FIPS code to the same name, just \"FIPS\" so that we can merge the dataframes on this column."
   ]
  },
  {
   "cell_type": "code",
   "execution_count": 4,
   "metadata": {},
   "outputs": [
    {
     "name": "stderr",
     "output_type": "stream",
     "text": [
      "C:\\Users\\Ali\\AppData\\Local\\Temp\\ipykernel_12948\\3069997503.py:3: SettingWithCopyWarning: \n",
      "A value is trying to be set on a copy of a slice from a DataFrame\n",
      "\n",
      "See the caveats in the documentation: https://pandas.pydata.org/pandas-docs/stable/user_guide/indexing.html#returning-a-view-versus-a-copy\n",
      "  ss_aqi.rename(columns={\"StCnty FIPS Code\":\"FIPS\"}, inplace=True)\n",
      "C:\\Users\\Ali\\AppData\\Local\\Temp\\ipykernel_12948\\3069997503.py:4: SettingWithCopyWarning: \n",
      "A value is trying to be set on a copy of a slice from a DataFrame\n",
      "\n",
      "See the caveats in the documentation: https://pandas.pydata.org/pandas-docs/stable/user_guide/indexing.html#returning-a-view-versus-a-copy\n",
      "  ss_housing.rename(columns={\"StCntyFIPS\":\"FIPS\"}, inplace=True)\n",
      "C:\\Users\\Ali\\AppData\\Local\\Temp\\ipykernel_12948\\3069997503.py:5: SettingWithCopyWarning: \n",
      "A value is trying to be set on a copy of a slice from a DataFrame\n",
      "\n",
      "See the caveats in the documentation: https://pandas.pydata.org/pandas-docs/stable/user_guide/indexing.html#returning-a-view-versus-a-copy\n",
      "  ss_employ.rename(columns={\"State-County FIPS Code\":\"FIPS\"}, inplace=True)\n",
      "C:\\Users\\Ali\\AppData\\Local\\Temp\\ipykernel_12948\\3069997503.py:6: SettingWithCopyWarning: \n",
      "A value is trying to be set on a copy of a slice from a DataFrame\n",
      "\n",
      "See the caveats in the documentation: https://pandas.pydata.org/pandas-docs/stable/user_guide/indexing.html#returning-a-view-versus-a-copy\n",
      "  ss_risk.rename(columns={\"STCOFIPS\":\"FIPS\"}, inplace=True)\n"
     ]
    }
   ],
   "source": [
    "# Renaming the FIPS column on every dataframe so we can merge them on the FIPS column\n",
    "\n",
    "ss_aqi.rename(columns={\"StCnty FIPS Code\":\"FIPS\"}, inplace=True)\n",
    "ss_housing.rename(columns={\"StCntyFIPS\":\"FIPS\"}, inplace=True)\n",
    "ss_employ.rename(columns={\"State-County FIPS Code\":\"FIPS\"}, inplace=True)\n",
    "ss_risk.rename(columns={\"STCOFIPS\":\"FIPS\"}, inplace=True)"
   ]
  },
  {
   "cell_type": "markdown",
   "metadata": {},
   "source": [
    "### 5. Merging dataframes\n",
    "Finally, we merge each dataframe on top of each other and convert this dataframe to a csv file. This is the csv file that we will use for the majority of EDA and Hypothesis Testing.\n",
    "\n",
    "Note that we are first dropping any NA values (there are only a few compared to the rest of the dataframe) and then we add the AQI data on this dataframe. The reason for this is that while the employment, risk index, and house price data has data for almost all counties in the United States, (approximately 3,000) the AQI dataset only has data for about 1,000 counties. I did not want to lose the other 2,000 counties' data."
   ]
  },
  {
   "cell_type": "code",
   "execution_count": 6,
   "metadata": {},
   "outputs": [],
   "source": [
    "# Merging housing dataframe onto employment dataframe\n",
    "merged_dataframe = ss_employ.merge(ss_housing, on=\"FIPS\", how=\"left\")\n",
    "\n",
    "# Merging risk index dataframe onto merged dataframe\n",
    "merged_dataframe = merged_dataframe.merge(ss_risk, on=\"FIPS\", how=\"left\")\n",
    "\n",
    "# Dropping the few rows with NA values\n",
    "merged_dataframe.dropna(inplace=True)\n",
    "\n",
    "# Merging the AQI dataframe onto the merged dataframe\n",
    "merged_dataframe = merged_dataframe.merge(ss_aqi, on=\"FIPS\", how=\"left\")\n",
    "\n",
    "# Writing to csv file\n",
    "merged_dataframe.to_csv(\"MERGED_DATASET_WITH_NAN_AQI.csv\", index=False)"
   ]
  }
 ],
 "metadata": {
  "kernelspec": {
   "display_name": "DSA201",
   "language": "python",
   "name": "python3"
  },
  "language_info": {
   "codemirror_mode": {
    "name": "ipython",
    "version": 3
   },
   "file_extension": ".py",
   "mimetype": "text/x-python",
   "name": "python",
   "nbconvert_exporter": "python",
   "pygments_lexer": "ipython3",
   "version": "3.12.5"
  }
 },
 "nbformat": 4,
 "nbformat_minor": 2
}
