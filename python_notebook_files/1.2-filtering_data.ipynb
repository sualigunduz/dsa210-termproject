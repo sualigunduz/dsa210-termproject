{
 "cells": [
  {
   "cell_type": "markdown",
   "metadata": {},
   "source": [
    "### 1. Importing Pandas, the only library needed here."
   ]
  },
  {
   "cell_type": "code",
   "execution_count": 1,
   "metadata": {},
   "outputs": [],
   "source": [
    "import pandas as pd"
   ]
  },
  {
   "cell_type": "markdown",
   "metadata": {},
   "source": [
    "### 2. Filtering Employment Data\n",
    "First we read the employment data. In this dataset the FIPS code for the state and the county are given in separate columns so we combine them to get a single \"State-County\" FIPS code. Its columns are reordered and converted to a csv file.\n",
    "\n",
    "Note: While reading the csv file, we pay attention to setting the datatype for the FIPS codes to a string to prevent it defaulting to an integer and deleting the leading zeroes in some codes."
   ]
  },
  {
   "cell_type": "code",
   "execution_count": 2,
   "metadata": {},
   "outputs": [],
   "source": [
    "# Reading the data\n",
    "emp_df = pd.read_csv(\"CSV_OF_UNEMPLOYMENT_laucnty19.csv\", sep=\";\", dtype={\"State FIPS Code\": str, \"County FIPS Code\": str})\n",
    "\n",
    "# Combining the state and county FIPS codes to get the State-County FIPS code for every row\n",
    "emp_df[\"State-County FIPS Code\"] = emp_df[\"State FIPS Code\"] + emp_df[\"County FIPS Code\"]\n",
    "\n",
    "# Reordering columns\n",
    "emp_df = emp_df[['LAUS Code', 'State FIPS Code', 'County FIPS Code','State-County FIPS Code', 'County Name/State Abbreviation', 'Year', 'Labor Force', 'Employed','Unemployed', 'Unemployment Rate (%)']]\n",
    "\n",
    "emp_df.head()\n",
    "\n",
    "# Write data\n",
    "emp_df.to_csv(\"EMPLOYMENT_FILTERED.csv\",index=False)"
   ]
  },
  {
   "cell_type": "markdown",
   "metadata": {},
   "source": [
    "### 3. Filtering house price data\n",
    "Firstly, we read the housing prices data. Since this dataset contains monthly prices for more than one year, we add a new \"2019 average\" column containing the mean of all the columns with a date in 2019. We then obtain the \"State-County\" FIPS code as above and filter out the other price data. Finally, we convert the dataframe to a csv file."
   ]
  },
  {
   "cell_type": "code",
   "execution_count": null,
   "metadata": {},
   "outputs": [],
   "source": [
    "house = pd.read_csv(\"HOUSING_County_zhvi_uc_sfrcondo_tier_0.33_0.67_sm_sa_month.csv\", dtype={\"StateCodeFIPS\": str, \"MunicipalCodeFIPS\": str})\n",
    "\n",
    "# Interested in 2019 data only.\n",
    "columns_2019 = [\"2019-01-31\",\"2019-02-28\",\"2019-03-31\",\"2019-04-30\",\"2019-05-31\",\"2019-06-30\",\"2019-07-31\",\"2019-08-31\",\"2019-09-30\",\"2019-10-31\",\"2019-11-30\",\"2019-12-31\"]\n",
    "\n",
    "# Adding a State-County FIPS Code to dataset\n",
    "house[\"StCntyFIPS\"] = house[\"StateCodeFIPS\"] + house[\"MunicipalCodeFIPS\"]\n",
    "\n",
    "# Add 2019 average house price to dataset\n",
    "house[\"2019_average\"] = house[columns_2019].mean(axis=1).round(5)\n",
    "\n",
    "# Filter dataset so we only have County Name, FIPS Code, and the 2019 average house price.\n",
    "filtered_house = house[[\"RegionName\",\"RegionType\",\"State\",\"Metro\", \"StCntyFIPS\", \"2019_average\"]]\n",
    "\n",
    "# Write data\n",
    "filtered_house.to_csv(\"HOUSING_FILTERED.csv\", index=False)"
   ]
  },
  {
   "cell_type": "markdown",
   "metadata": {},
   "source": [
    "### 4. Filtering Risk Index data\n",
    "Firstly, we read the National Risk Index data. We pick the useful columns from the dataset and round the \"Risk Score\" column for easier readability. We then convert it into a csv file."
   ]
  },
  {
   "cell_type": "code",
   "execution_count": null,
   "metadata": {},
   "outputs": [],
   "source": [
    "risk = pd.read_csv(\"RISK_NRI_Table_Counties.csv\", dtype={\"STCOFIPS\": str})\n",
    "\n",
    "# Select useful columns\n",
    "risk_filtered = risk[[\"COUNTY\",\"STATE\",\"STATEABBRV\",\"STCOFIPS\",\"RISK_SCORE\"]]\n",
    "\n",
    "# Round the risk_score to five trailing digits for easy readability\n",
    "risk_filtered[\"RISK_SCORE\"] = risk_filtered[\"RISK_SCORE\"].round(5)\n",
    "\n",
    "risk_filtered.to_csv(\"RISKINDEX_FILTERED.csv\",index=False)"
   ]
  }
 ],
 "metadata": {
  "kernelspec": {
   "display_name": "DSA201",
   "language": "python",
   "name": "python3"
  },
  "language_info": {
   "codemirror_mode": {
    "name": "ipython",
    "version": 3
   },
   "file_extension": ".py",
   "mimetype": "text/x-python",
   "name": "python",
   "nbconvert_exporter": "python",
   "pygments_lexer": "ipython3",
   "version": "3.12.5"
  }
 },
 "nbformat": 4,
 "nbformat_minor": 2
}
